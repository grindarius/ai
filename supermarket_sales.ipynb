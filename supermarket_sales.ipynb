{
 "cells": [
  {
   "cell_type": "markdown",
   "metadata": {},
   "source": [
    "## Decision tree algorithm\n",
    "\n",
    "เป็นการนำข้อมูลมาทำเป็นต้นไม้ตัดสินใจ เพื่อคาดการณ์ทิศทางของผู้ใช้งานว่าจะเป็นผู้ใช้งานรูปแบบใด"
   ]
  },
  {
   "cell_type": "markdown",
   "metadata": {},
   "source": [
    "เริ่มจากการ import ข้อมูลเข้ามา"
   ]
  },
  {
   "cell_type": "code",
   "execution_count": 72,
   "metadata": {},
   "outputs": [],
   "source": [
    "import pandas as pd\n",
    "from sklearn.tree import DecisionTreeClassifier\n",
    "from sklearn.model_selection import train_test_split\n",
    "from sklearn.metrics import accuracy_score, confusion_matrix, classification_report\n",
    "from sklearn import tree\n",
    "import category_encoders as ce\n",
    "import matplotlib.pyplot as plt\n",
    "import graphviz\n",
    "\n",
    "%matplotlib inline\n"
   ]
  },
  {
   "cell_type": "markdown",
   "metadata": {},
   "source": [
    "ทำการ load ข้อมูล โดยที่จะทำการ format rows ที่เป็น yes no ให้เป็น 0 และ 1"
   ]
  },
  {
   "cell_type": "code",
   "execution_count": 73,
   "metadata": {},
   "outputs": [
    {
     "name": "stdout",
     "output_type": "stream",
     "text": [
      "  branch       city customer_type  gender  health_and_beauty  \\\n",
      "0      A     Yangon        Member  Female                  1   \n",
      "1      C  Naypyitaw        Normal  Female                  0   \n",
      "2      A     Yangon        Normal    Male                  0   \n",
      "3      A     Yangon        Member    Male                  1   \n",
      "4      A     Yangon        Normal    Male                  0   \n",
      "\n",
      "   electronic_accessories  home_and_lifestyle  sports_and_travel  \\\n",
      "0                       0                   0                  0   \n",
      "1                       1                   0                  0   \n",
      "2                       0                   1                  0   \n",
      "3                       0                   0                  0   \n",
      "4                       0                   0                  1   \n",
      "\n",
      "   food_and_beverages  fashion_accessories  unit_price  quantity  tax  total  \\\n",
      "0                   0                    0          32         7   13    237   \n",
      "1                   0                    0          64         5   15    335   \n",
      "2                   0                    0          60         7   17    437   \n",
      "3                   0                    0          70         8   18    578   \n",
      "4                   0                    0          35         7   13    258   \n",
      "\n",
      "       payment  cogs  rating  \n",
      "0      Ewallet   224    high  \n",
      "1         Cash   320    high  \n",
      "2  Credit card   420  medium  \n",
      "3      Ewallet   560    high  \n",
      "4      Ewallet   245  medium  \n"
     ]
    }
   ],
   "source": [
    "column_names = [\n",
    "  'branch',\n",
    "  'city',\n",
    "  'customer_type',\n",
    "  'gender',\n",
    "  'health_and_beauty',\n",
    "  'electronic_accessories',\n",
    "  'home_and_lifestyle',\n",
    "  'sports_and_travel',\n",
    "  'food_and_beverages',\n",
    "  'fashion_accessories',\n",
    "  'unit_price',\n",
    "  'quantity',\n",
    "  'tax',\n",
    "  'total',\n",
    "  'payment',\n",
    "  'cogs',\n",
    "  'rating'\n",
    "]\n",
    "\n",
    "df = pd.read_csv('./attribute1.csv', header=None,\n",
    "                 skiprows=[0], names=column_names)\n",
    "\n",
    "df[['health_and_beauty', 'electronic_accessories', 'home_and_lifestyle', 'sports_and_travel', 'food_and_beverages', 'fashion_accessories']] = df[['health_and_beauty', 'electronic_accessories', 'home_and_lifestyle', 'sports_and_travel', 'food_and_beverages', 'fashion_accessories']].eq('Yes').astype(int)\n",
    "\n",
    "print(df.head())\n"
   ]
  },
  {
   "cell_type": "markdown",
   "metadata": {},
   "source": [
    "ตรวจสอบจำนวนข้อมูลในแต่ละคอลัมน์"
   ]
  },
  {
   "cell_type": "code",
   "execution_count": 74,
   "metadata": {},
   "outputs": [
    {
     "name": "stdout",
     "output_type": "stream",
     "text": [
      "A    340\n",
      "B    332\n",
      "C    328\n",
      "Name: branch, dtype: int64\n",
      "Yangon       340\n",
      "Mandalay     332\n",
      "Naypyitaw    328\n",
      "Name: city, dtype: int64\n",
      "Member    501\n",
      "Normal    499\n",
      "Name: customer_type, dtype: int64\n",
      "Female    501\n",
      "Male      499\n",
      "Name: gender, dtype: int64\n",
      "0    848\n",
      "1    152\n",
      "Name: health_and_beauty, dtype: int64\n",
      "0    830\n",
      "1    170\n",
      "Name: electronic_accessories, dtype: int64\n",
      "0    840\n",
      "1    160\n",
      "Name: home_and_lifestyle, dtype: int64\n",
      "0    834\n",
      "1    166\n",
      "Name: sports_and_travel, dtype: int64\n",
      "0    826\n",
      "1    174\n",
      "Name: food_and_beverages, dtype: int64\n",
      "0    822\n",
      "1    178\n",
      "Name: fashion_accessories, dtype: int64\n",
      "83    22\n",
      "44    22\n",
      "32    21\n",
      "79    18\n",
      "26    18\n",
      "      ..\n",
      "84     7\n",
      "55     7\n",
      "71     6\n",
      "73     6\n",
      "81     5\n",
      "Name: unit_price, Length: 81, dtype: int64\n",
      "10    119\n",
      "1     112\n",
      "4     109\n",
      "7     102\n",
      "5     102\n",
      "6      98\n",
      "9      92\n",
      "2      91\n",
      "3      90\n",
      "8      85\n",
      "Name: quantity, dtype: int64\n",
      "13    113\n",
      "20    102\n",
      "11    101\n",
      "10     94\n",
      "12     91\n",
      "18     89\n",
      "15     85\n",
      "17     84\n",
      "19     84\n",
      "16     79\n",
      "14     78\n",
      "Name: tax, dtype: int64\n",
      "280    8\n",
      "101    7\n",
      "185    7\n",
      "335    7\n",
      "268    6\n",
      "      ..\n",
      "650    1\n",
      "605    1\n",
      "212    1\n",
      "363    1\n",
      "733    1\n",
      "Name: total, Length: 520, dtype: int64\n",
      "Ewallet        345\n",
      "Cash           344\n",
      "Credit card    311\n",
      "Name: payment, dtype: int64\n",
      "420    13\n",
      "168    12\n",
      "240    11\n",
      "180    11\n",
      "320    10\n",
      "       ..\n",
      "621     1\n",
      "123     1\n",
      "395     1\n",
      "272     1\n",
      "413     1\n",
      "Name: cogs, Length: 366, dtype: int64\n",
      "medium    502\n",
      "high      413\n",
      "low        85\n",
      "Name: rating, dtype: int64\n"
     ]
    }
   ],
   "source": [
    "for col in column_names:\n",
    "  print(df[col].value_counts())\n"
   ]
  },
  {
   "cell_type": "markdown",
   "metadata": {},
   "source": [
    "ทำการทำ train test split ของข้อมูล"
   ]
  },
  {
   "cell_type": "code",
   "execution_count": 75,
   "metadata": {},
   "outputs": [],
   "source": [
    "x = df.drop(['rating'], axis=1, inplace=False)\n",
    "y = df['rating']\n",
    "\n",
    "x_train, x_test, y_train, y_test = train_test_split(\n",
    "    x, y, test_size=0.3, random_state=112233)\n"
   ]
  },
  {
   "cell_type": "markdown",
   "metadata": {},
   "source": [
    "ทำการ encode categorical data ให้เป็น number"
   ]
  },
  {
   "cell_type": "code",
   "execution_count": 76,
   "metadata": {},
   "outputs": [
    {
     "name": "stdout",
     "output_type": "stream",
     "text": [
      "     branch  city  customer_type  gender  health_and_beauty  \\\n",
      "399       1     1              1       1                  0   \n",
      "995       2     2              2       1                  1   \n",
      "808       1     1              2       2                  1   \n",
      "936       2     2              2       2                  1   \n",
      "476       3     3              2       2                  0   \n",
      "\n",
      "     electronic_accessories  home_and_lifestyle  sports_and_travel  \\\n",
      "399                       1                   0                  0   \n",
      "995                       0                   0                  0   \n",
      "808                       0                   0                  0   \n",
      "936                       0                   0                  0   \n",
      "476                       0                   0                  1   \n",
      "\n",
      "     food_and_beverages  fashion_accessories  unit_price  quantity  tax  \\\n",
      "399                   0                    0          44         9   12   \n",
      "995                   0                    0          39         1   13   \n",
      "808                   0                    0          49         1   14   \n",
      "936                   0                    0          49         7   15   \n",
      "476                   0                    0          33         5   20   \n",
      "\n",
      "     total  payment  cogs  \n",
      "399    408        1   396  \n",
      "995     52        2    39  \n",
      "808     63        1    49  \n",
      "936    358        2   343  \n",
      "476    185        3   165  \n"
     ]
    }
   ],
   "source": [
    "encoder = ce.OrdinalEncoder(\n",
    "    cols=['branch', 'city', 'customer_type', 'gender', 'payment'])\n",
    "\n",
    "x_train = encoder.fit_transform(x_train)\n",
    "x_test = encoder.transform(x_test)\n",
    "\n",
    "print(x_train.head())\n"
   ]
  },
  {
   "cell_type": "markdown",
   "metadata": {},
   "source": [
    "## สร้าง Decision tree จาก Entropy (information gain) method"
   ]
  },
  {
   "cell_type": "code",
   "execution_count": 77,
   "metadata": {},
   "outputs": [
    {
     "data": {
      "text/plain": [
       "DecisionTreeClassifier(criterion='entropy', max_depth=3, random_state=112233)"
      ]
     },
     "execution_count": 77,
     "metadata": {},
     "output_type": "execute_result"
    }
   ],
   "source": [
    "clf_entropy = DecisionTreeClassifier(\n",
    "    criterion='entropy', max_depth=3, random_state=112233)\n",
    "\n",
    "clf_entropy.fit(x_train, y_train)\n"
   ]
  },
  {
   "cell_type": "markdown",
   "metadata": {},
   "source": [
    "ทำการวัดผลโมเดล"
   ]
  },
  {
   "cell_type": "code",
   "execution_count": 78,
   "metadata": {},
   "outputs": [],
   "source": [
    "y_predicted_entropy = clf_entropy.predict(x_test)\n"
   ]
  },
  {
   "cell_type": "markdown",
   "metadata": {},
   "source": [
    "ดูผลลัพธ์ของการวัดผลสำหรับ test set"
   ]
  },
  {
   "cell_type": "code",
   "execution_count": 79,
   "metadata": {},
   "outputs": [
    {
     "name": "stdout",
     "output_type": "stream",
     "text": [
      "Model accuracy score with criterion entropy index: 0.4500\n"
     ]
    }
   ],
   "source": [
    "print('Model accuracy score with criterion entropy index: {0:0.4f}'. format(\n",
    "    accuracy_score(y_test, y_predicted_entropy)))\n"
   ]
  },
  {
   "cell_type": "code",
   "execution_count": 80,
   "metadata": {},
   "outputs": [
    {
     "name": "stdout",
     "output_type": "stream",
     "text": [
      "['medium' 'medium' 'medium' 'medium' 'high' 'medium' 'medium' 'medium'\n",
      " 'medium' 'medium' 'medium' 'medium' 'medium' 'medium' 'medium' 'medium'\n",
      " 'medium' 'medium' 'high' 'medium' 'high' 'medium' 'medium' 'medium'\n",
      " 'medium' 'medium' 'medium' 'medium' 'medium' 'medium' 'medium' 'medium'\n",
      " 'medium' 'high' 'high' 'high' 'medium' 'medium' 'medium' 'medium'\n",
      " 'medium' 'medium' 'medium' 'medium' 'medium' 'medium' 'medium' 'medium'\n",
      " 'high' 'medium' 'medium' 'medium' 'medium' 'medium' 'high' 'medium'\n",
      " 'medium' 'medium' 'medium' 'medium' 'medium' 'medium' 'medium' 'medium'\n",
      " 'medium' 'medium' 'medium' 'high' 'medium' 'medium' 'medium' 'medium'\n",
      " 'medium' 'medium' 'high' 'medium' 'medium' 'medium' 'medium' 'medium'\n",
      " 'medium' 'high' 'medium' 'medium' 'medium' 'medium' 'medium' 'medium'\n",
      " 'medium' 'medium' 'medium' 'medium' 'medium' 'medium' 'medium' 'medium'\n",
      " 'medium' 'medium' 'medium' 'medium' 'medium' 'medium' 'medium' 'high'\n",
      " 'medium' 'medium' 'high' 'high' 'medium' 'medium' 'medium' 'medium'\n",
      " 'medium' 'medium' 'medium' 'medium' 'high' 'medium' 'high' 'medium'\n",
      " 'medium' 'medium' 'medium' 'medium' 'medium' 'medium' 'medium' 'medium'\n",
      " 'medium' 'medium' 'medium' 'medium' 'medium' 'medium' 'medium' 'medium'\n",
      " 'medium' 'medium' 'medium' 'medium' 'medium' 'medium' 'high' 'medium'\n",
      " 'medium' 'medium' 'high' 'medium' 'medium' 'medium' 'medium' 'low'\n",
      " 'medium' 'medium' 'medium' 'high' 'medium' 'medium' 'medium' 'medium'\n",
      " 'medium' 'medium' 'high' 'medium' 'medium' 'medium' 'high' 'medium'\n",
      " 'high' 'medium' 'medium' 'high' 'medium' 'medium' 'medium' 'high'\n",
      " 'medium' 'high' 'high' 'medium' 'medium' 'medium' 'medium' 'medium'\n",
      " 'medium' 'medium' 'medium' 'medium' 'medium' 'high' 'medium' 'medium'\n",
      " 'high' 'medium' 'high' 'medium' 'medium' 'medium' 'medium' 'high'\n",
      " 'medium' 'medium' 'medium' 'medium' 'medium' 'medium' 'high' 'medium'\n",
      " 'medium' 'medium' 'high' 'medium' 'high' 'medium' 'medium' 'medium'\n",
      " 'medium' 'medium' 'medium' 'medium' 'high' 'medium' 'medium' 'medium'\n",
      " 'medium' 'medium' 'medium' 'medium' 'medium' 'high' 'medium' 'medium'\n",
      " 'medium' 'medium' 'medium' 'medium' 'medium' 'high' 'high' 'medium'\n",
      " 'medium' 'high' 'medium' 'medium' 'medium' 'medium' 'medium' 'medium'\n",
      " 'medium' 'medium' 'medium' 'medium' 'medium' 'high' 'medium' 'medium'\n",
      " 'medium' 'medium' 'high' 'medium' 'medium' 'medium' 'medium' 'high'\n",
      " 'medium' 'medium' 'medium' 'high' 'medium' 'high' 'high' 'medium' 'high'\n",
      " 'medium' 'medium' 'medium' 'high' 'medium' 'medium' 'low' 'medium' 'high'\n",
      " 'medium' 'medium' 'medium' 'medium' 'high' 'high' 'medium' 'high'\n",
      " 'medium' 'medium' 'medium' 'medium' 'high' 'medium' 'medium' 'medium'\n",
      " 'high' 'medium' 'medium' 'medium' 'medium' 'medium' 'medium' 'medium'\n",
      " 'high' 'medium' 'medium' 'medium' 'high' 'medium' 'high' 'medium'\n",
      " 'medium' 'medium' 'low' 'high' 'medium' 'medium' 'medium' 'medium'\n",
      " 'medium' 'medium' 'high' 'high' 'medium' 'medium' 'medium' 'medium'\n",
      " 'medium' 'medium' 'medium' 'medium' 'medium' 'medium' 'high' 'medium'\n",
      " 'low' 'medium' 'medium' 'medium' 'medium' 'high' 'medium' 'medium'\n",
      " 'medium' 'medium' 'medium' 'medium' 'medium' 'medium' 'medium' 'high'\n",
      " 'medium' 'medium' 'medium' 'high' 'medium' 'high' 'medium' 'medium'\n",
      " 'medium' 'medium' 'medium' 'medium' 'low' 'medium' 'medium' 'medium'\n",
      " 'medium' 'high' 'medium' 'medium' 'medium' 'medium' 'medium' 'high'\n",
      " 'medium' 'medium' 'high' 'high' 'medium' 'medium' 'medium' 'medium'\n",
      " 'medium' 'medium' 'medium' 'medium' 'medium' 'medium' 'medium' 'medium'\n",
      " 'medium' 'medium' 'medium' 'high' 'medium' 'medium' 'medium' 'high'\n",
      " 'medium' 'high' 'medium' 'medium' 'medium' 'medium' 'medium' 'medium'\n",
      " 'high' 'medium' 'medium' 'medium' 'medium' 'medium' 'medium' 'medium'\n",
      " 'medium' 'medium' 'medium' 'medium' 'medium' 'medium' 'medium' 'medium'\n",
      " 'medium' 'medium' 'medium' 'medium' 'medium' 'medium' 'medium' 'high'\n",
      " 'medium' 'medium' 'medium' 'high' 'medium' 'medium' 'medium' 'medium'\n",
      " 'medium' 'medium' 'medium' 'high' 'medium' 'medium' 'medium' 'medium'\n",
      " 'medium' 'medium' 'medium' 'medium' 'medium' 'medium' 'medium' 'medium'\n",
      " 'medium' 'high' 'medium' 'medium' 'medium' 'medium' 'medium' 'medium'\n",
      " 'medium' 'high' 'medium' 'medium' 'medium' 'medium' 'medium' 'medium'\n",
      " 'high' 'high' 'medium' 'high' 'medium' 'medium' 'medium' 'high' 'medium'\n",
      " 'high' 'medium' 'medium' 'medium' 'medium' 'medium' 'medium' 'medium'\n",
      " 'medium' 'medium' 'medium' 'high' 'medium' 'high' 'medium' 'medium'\n",
      " 'high' 'high' 'medium' 'medium' 'medium' 'medium' 'high' 'medium'\n",
      " 'medium' 'medium' 'medium' 'high' 'high' 'medium' 'medium' 'medium'\n",
      " 'high' 'medium' 'medium' 'medium' 'medium' 'medium' 'medium' 'medium'\n",
      " 'medium' 'high' 'medium' 'medium' 'medium' 'medium' 'medium' 'medium'\n",
      " 'medium' 'high' 'medium' 'high' 'medium' 'medium' 'medium' 'medium'\n",
      " 'medium' 'medium' 'medium' 'medium' 'high' 'medium' 'medium' 'medium'\n",
      " 'medium' 'medium' 'medium' 'medium' 'medium' 'medium' 'medium' 'high'\n",
      " 'medium' 'high' 'medium' 'medium' 'low' 'medium' 'medium' 'medium' 'high'\n",
      " 'medium' 'medium' 'medium' 'medium' 'medium' 'medium' 'medium' 'medium'\n",
      " 'medium' 'medium' 'medium' 'medium' 'medium' 'medium' 'medium' 'medium'\n",
      " 'medium' 'medium' 'medium' 'medium' 'medium' 'medium' 'medium' 'high'\n",
      " 'medium' 'medium' 'medium' 'medium' 'medium' 'medium' 'high' 'medium'\n",
      " 'high' 'medium' 'high' 'high' 'medium' 'medium' 'medium' 'medium'\n",
      " 'medium' 'medium' 'medium' 'high' 'medium' 'medium' 'medium' 'medium'\n",
      " 'medium' 'high' 'medium' 'medium' 'medium' 'medium' 'medium' 'medium'\n",
      " 'medium' 'medium' 'medium' 'medium' 'medium' 'medium' 'medium' 'medium'\n",
      " 'medium' 'high' 'medium' 'medium' 'medium' 'medium' 'medium' 'medium'\n",
      " 'medium' 'medium' 'medium' 'medium' 'medium' 'medium' 'medium' 'medium'\n",
      " 'medium' 'medium' 'medium' 'medium' 'medium' 'high' 'high' 'medium'\n",
      " 'medium' 'medium' 'medium' 'high' 'medium' 'medium' 'high' 'medium'\n",
      " 'medium' 'medium' 'medium' 'medium' 'medium' 'medium' 'medium' 'medium'\n",
      " 'medium' 'medium' 'medium' 'medium' 'medium' 'medium' 'medium' 'medium'\n",
      " 'medium' 'medium' 'low' 'medium' 'medium' 'medium' 'medium' 'medium'\n",
      " 'medium' 'medium' 'high' 'medium' 'medium' 'high' 'high' 'medium'\n",
      " 'medium' 'medium' 'high' 'medium' 'medium' 'medium' 'medium' 'medium']\n"
     ]
    }
   ],
   "source": [
    "y_predicted_train_entropy = clf_entropy.predict(x_train)\n",
    "\n",
    "print(y_predicted_train_entropy)\n"
   ]
  },
  {
   "cell_type": "markdown",
   "metadata": {},
   "source": [
    "ดูผลลัพธ์ของการวัดผลของ train set"
   ]
  },
  {
   "cell_type": "code",
   "execution_count": 81,
   "metadata": {},
   "outputs": [
    {
     "name": "stdout",
     "output_type": "stream",
     "text": [
      "Training-set accuracy score: 0.5129\n"
     ]
    }
   ],
   "source": [
    "print('Training-set accuracy score: {0:0.4f}'. format(\n",
    "    accuracy_score(y_train, y_predicted_train_entropy)))\n"
   ]
  },
  {
   "cell_type": "code",
   "execution_count": 82,
   "metadata": {},
   "outputs": [
    {
     "name": "stdout",
     "output_type": "stream",
     "text": [
      "Training set score: 0.5129\n",
      "Test set score: 0.4500\n"
     ]
    }
   ],
   "source": [
    "print('Training set score: {:.4f}'.format(clf_entropy.score(x_train, y_train)))\n",
    "\n",
    "print('Test set score: {:.4f}'.format(clf_entropy.score(x_test, y_test)))\n"
   ]
  },
  {
   "cell_type": "markdown",
   "metadata": {},
   "source": [
    "ทำการ plot tree จาก train model"
   ]
  },
  {
   "cell_type": "code",
   "execution_count": 83,
   "metadata": {},
   "outputs": [
    {
     "data": {
      "text/plain": [
       "[Text(0.5, 0.875, 'X[10] <= 25.5\\nentropy = 1.326\\nsamples = 700\\nvalue = [287, 59, 354]'),\n",
       " Text(0.25, 0.625, 'X[15] <= 65.5\\nentropy = 1.127\\nsamples = 137\\nvalue = [39, 7, 91]'),\n",
       " Text(0.125, 0.375, 'X[10] <= 21.5\\nentropy = 0.877\\nsamples = 54\\nvalue = [16, 0, 38]'),\n",
       " Text(0.0625, 0.125, 'entropy = 0.939\\nsamples = 45\\nvalue = [16, 0, 29]'),\n",
       " Text(0.1875, 0.125, 'entropy = 0.0\\nsamples = 9\\nvalue = [0, 0, 9]'),\n",
       " Text(0.375, 0.375, 'X[15] <= 76.5\\nentropy = 1.227\\nsamples = 83\\nvalue = [23, 7, 53]'),\n",
       " Text(0.3125, 0.125, 'entropy = 1.557\\nsamples = 7\\nvalue = [2, 3, 2]'),\n",
       " Text(0.4375, 0.125, 'entropy = 1.123\\nsamples = 76\\nvalue = [21, 4, 51]'),\n",
       " Text(0.75, 0.625, 'X[15] <= 781.5\\nentropy = 1.351\\nsamples = 563\\nvalue = [248, 52, 263]'),\n",
       " Text(0.625, 0.375, 'X[10] <= 36.5\\nentropy = 1.342\\nsamples = 545\\nvalue = [245, 48, 252]'),\n",
       " Text(0.5625, 0.125, 'entropy = 1.463\\nsamples = 105\\nvalue = [46, 16, 43]'),\n",
       " Text(0.6875, 0.125, 'entropy = 1.303\\nsamples = 440\\nvalue = [199, 32, 209]'),\n",
       " Text(0.875, 0.375, 'X[3] <= 1.5\\nentropy = 1.347\\nsamples = 18\\nvalue = [3, 4, 11]'),\n",
       " Text(0.8125, 0.125, 'entropy = 0.684\\nsamples = 11\\nvalue = [0, 2, 9]'),\n",
       " Text(0.9375, 0.125, 'entropy = 1.557\\nsamples = 7\\nvalue = [3, 2, 2]')]"
      ]
     },
     "execution_count": 83,
     "metadata": {},
     "output_type": "execute_result"
    },
    {
     "data": {
      "image/png": "[encoded data removed]",
      "text/plain": [
       "<Figure size 864x576 with 1 Axes>"
      ]
     },
     "metadata": {
      "needs_background": "light"
     },
     "output_type": "display_data"
    }
   ],
   "source": [
    "plt.figure(figsize=(12, 8))\n",
    "\n",
    "tree.plot_tree(clf_entropy.fit(x_train, y_train))\n"
   ]
  },
  {
   "cell_type": "markdown",
   "metadata": {},
   "source": [
    "ทำการนำกราฟไป plot ผ่าน graphviz"
   ]
  },
  {
   "cell_type": "code",
   "execution_count": 84,
   "metadata": {},
   "outputs": [
    {
     "data": {
      "image/svg+xml": "<?xml version=\"1.0\" encoding=\"UTF-8\" standalone=\"no\"?>\n<!DOCTYPE svg PUBLIC \"-//W3C//DTD SVG 1.1//EN\"\n \"http://www.w3.org/Graphics/SVG/1.1/DTD/svg11.dtd\">\n<!-- Generated by graphviz version 3.0.0 (20220226.1711)\n -->\n<!-- Title: Tree Pages: 1 -->\n<svg width=\"1146pt\" height=\"433pt\"\n viewBox=\"0.00 0.00 1145.50 433.00\" xmlns=\"http://www.w3.org/2000/svg\" xmlns:xlink=\"http://www.w3.org/1999/xlink\">\n<g id=\"graph0\" class=\"graph\" transform=\"scale(1 1) rotate(0) translate(4 429)\">\n<title>Tree</title>\n<polygon fill=\"white\" stroke=\"transparent\" points=\"-4,4 -4,-429 1141.5,-429 1141.5,4 -4,4\"/>\n<!-- 0 -->\n<g id=\"node1\" class=\"node\">\n<title>0</title>\n<path fill=\"#ebdffb\" stroke=\"black\" d=\"M613.5,-425C613.5,-425 483.5,-425 483.5,-425 477.5,-425 471.5,-419 471.5,-413 471.5,-413 471.5,-354 471.5,-354 471.5,-348 477.5,-342 483.5,-342 483.5,-342 613.5,-342 613.5,-342 619.5,-342 625.5,-348 625.5,-354 625.5,-354 625.5,-413 625.5,-413 625.5,-419 619.5,-425 613.5,-425\"/>\n<text text-anchor=\"start\" x=\"495.5\" y=\"-409.8\" font-family=\"Helvetica,sans-Serif\" font-size=\"14.00\">unit_price ≤ 25.5</text>\n<text text-anchor=\"start\" x=\"498.5\" y=\"-394.8\" font-family=\"Helvetica,sans-Serif\" font-size=\"14.00\">entropy = 1.326</text>\n<text text-anchor=\"start\" x=\"501\" y=\"-379.8\" font-family=\"Helvetica,sans-Serif\" font-size=\"14.00\">samples = 700</text>\n<text text-anchor=\"start\" x=\"479.5\" y=\"-364.8\" font-family=\"Helvetica,sans-Serif\" font-size=\"14.00\">value = [287, 59, 354]</text>\n<text text-anchor=\"start\" x=\"510.5\" y=\"-349.8\" font-family=\"Helvetica,sans-Serif\" font-size=\"14.00\">class = high</text>\n</g>\n<!-- 1 -->\n<g id=\"node2\" class=\"node\">\n<title>1</title>\n<path fill=\"#bc96f1\" stroke=\"black\" d=\"M462,-306C462,-306 357,-306 357,-306 351,-306 345,-300 345,-294 345,-294 345,-235 345,-235 345,-229 351,-223 357,-223 357,-223 462,-223 462,-223 468,-223 474,-229 474,-235 474,-235 474,-294 474,-294 474,-300 468,-306 462,-306\"/>\n<text text-anchor=\"start\" x=\"371.5\" y=\"-290.8\" font-family=\"Helvetica,sans-Serif\" font-size=\"14.00\">cogs ≤ 65.5</text>\n<text text-anchor=\"start\" x=\"359.5\" y=\"-275.8\" font-family=\"Helvetica,sans-Serif\" font-size=\"14.00\">entropy = 1.127</text>\n<text text-anchor=\"start\" x=\"362\" y=\"-260.8\" font-family=\"Helvetica,sans-Serif\" font-size=\"14.00\">samples = 137</text>\n<text text-anchor=\"start\" x=\"353\" y=\"-245.8\" font-family=\"Helvetica,sans-Serif\" font-size=\"14.00\">value = [39, 7, 91]</text>\n<text text-anchor=\"start\" x=\"371.5\" y=\"-230.8\" font-family=\"Helvetica,sans-Serif\" font-size=\"14.00\">class = high</text>\n</g>\n<!-- 0&#45;&gt;1 -->\n<g id=\"edge1\" class=\"edge\">\n<title>0&#45;&gt;1</title>\n<path fill=\"none\" stroke=\"black\" d=\"M500.27,-341.91C489.06,-332.47 477.03,-322.34 465.51,-312.65\"/>\n<polygon fill=\"black\" stroke=\"black\" points=\"467.54,-309.78 457.64,-306.02 463.04,-315.14 467.54,-309.78\"/>\n<text text-anchor=\"middle\" x=\"459.78\" y=\"-327.23\" font-family=\"Helvetica,sans-Serif\" font-size=\"14.00\">True</text>\n</g>\n<!-- 8 -->\n<g id=\"node9\" class=\"node\">\n<title>8</title>\n<path fill=\"#f9f6fe\" stroke=\"black\" d=\"M773.5,-306C773.5,-306 643.5,-306 643.5,-306 637.5,-306 631.5,-300 631.5,-294 631.5,-294 631.5,-235 631.5,-235 631.5,-229 637.5,-223 643.5,-223 643.5,-223 773.5,-223 773.5,-223 779.5,-223 785.5,-229 785.5,-235 785.5,-235 785.5,-294 785.5,-294 785.5,-300 779.5,-306 773.5,-306\"/>\n<text text-anchor=\"start\" x=\"666.5\" y=\"-290.8\" font-family=\"Helvetica,sans-Serif\" font-size=\"14.00\">cogs ≤ 781.5</text>\n<text text-anchor=\"start\" x=\"658.5\" y=\"-275.8\" font-family=\"Helvetica,sans-Serif\" font-size=\"14.00\">entropy = 1.351</text>\n<text text-anchor=\"start\" x=\"661\" y=\"-260.8\" font-family=\"Helvetica,sans-Serif\" font-size=\"14.00\">samples = 563</text>\n<text text-anchor=\"start\" x=\"639.5\" y=\"-245.8\" font-family=\"Helvetica,sans-Serif\" font-size=\"14.00\">value = [248, 52, 263]</text>\n<text text-anchor=\"start\" x=\"670.5\" y=\"-230.8\" font-family=\"Helvetica,sans-Serif\" font-size=\"14.00\">class = high</text>\n</g>\n<!-- 0&#45;&gt;8 -->\n<g id=\"edge8\" class=\"edge\">\n<title>0&#45;&gt;8</title>\n<path fill=\"none\" stroke=\"black\" d=\"M604.01,-341.91C617.17,-332.29 631.3,-321.95 644.79,-312.09\"/>\n<polygon fill=\"black\" stroke=\"black\" points=\"647.08,-314.75 653.09,-306.02 642.95,-309.1 647.08,-314.75\"/>\n<text text-anchor=\"middle\" x=\"649.25\" y=\"-327.02\" font-family=\"Helvetica,sans-Serif\" font-size=\"14.00\">False</text>\n</g>\n<!-- 2 -->\n<g id=\"node3\" class=\"node\">\n<title>2</title>\n<path fill=\"#b68cf0\" stroke=\"black\" d=\"M256,-187C256,-187 151,-187 151,-187 145,-187 139,-181 139,-175 139,-175 139,-116 139,-116 139,-110 145,-104 151,-104 151,-104 256,-104 256,-104 262,-104 268,-110 268,-116 268,-116 268,-175 268,-175 268,-181 262,-187 256,-187\"/>\n<text text-anchor=\"start\" x=\"150.5\" y=\"-171.8\" font-family=\"Helvetica,sans-Serif\" font-size=\"14.00\">unit_price ≤ 21.5</text>\n<text text-anchor=\"start\" x=\"153.5\" y=\"-156.8\" font-family=\"Helvetica,sans-Serif\" font-size=\"14.00\">entropy = 0.877</text>\n<text text-anchor=\"start\" x=\"160\" y=\"-141.8\" font-family=\"Helvetica,sans-Serif\" font-size=\"14.00\">samples = 54</text>\n<text text-anchor=\"start\" x=\"147\" y=\"-126.8\" font-family=\"Helvetica,sans-Serif\" font-size=\"14.00\">value = [16, 0, 38]</text>\n<text text-anchor=\"start\" x=\"165.5\" y=\"-111.8\" font-family=\"Helvetica,sans-Serif\" font-size=\"14.00\">class = high</text>\n</g>\n<!-- 1&#45;&gt;2 -->\n<g id=\"edge2\" class=\"edge\">\n<title>1&#45;&gt;2</title>\n<path fill=\"none\" stroke=\"black\" d=\"M344.89,-226.8C323.32,-214.55 299.14,-200.82 276.96,-188.22\"/>\n<polygon fill=\"black\" stroke=\"black\" points=\"278.66,-185.16 268.24,-183.27 275.21,-191.25 278.66,-185.16\"/>\n</g>\n<!-- 5 -->\n<g id=\"node6\" class=\"node\">\n<title>5</title>\n<path fill=\"#c09cf2\" stroke=\"black\" d=\"M462,-187C462,-187 357,-187 357,-187 351,-187 345,-181 345,-175 345,-175 345,-116 345,-116 345,-110 351,-104 357,-104 357,-104 462,-104 462,-104 468,-104 474,-110 474,-116 474,-116 474,-175 474,-175 474,-181 468,-187 462,-187\"/>\n<text text-anchor=\"start\" x=\"371.5\" y=\"-171.8\" font-family=\"Helvetica,sans-Serif\" font-size=\"14.00\">cogs ≤ 76.5</text>\n<text text-anchor=\"start\" x=\"359.5\" y=\"-156.8\" font-family=\"Helvetica,sans-Serif\" font-size=\"14.00\">entropy = 1.227</text>\n<text text-anchor=\"start\" x=\"366\" y=\"-141.8\" font-family=\"Helvetica,sans-Serif\" font-size=\"14.00\">samples = 83</text>\n<text text-anchor=\"start\" x=\"353\" y=\"-126.8\" font-family=\"Helvetica,sans-Serif\" font-size=\"14.00\">value = [23, 7, 53]</text>\n<text text-anchor=\"start\" x=\"371.5\" y=\"-111.8\" font-family=\"Helvetica,sans-Serif\" font-size=\"14.00\">class = high</text>\n</g>\n<!-- 1&#45;&gt;5 -->\n<g id=\"edge5\" class=\"edge\">\n<title>1&#45;&gt;5</title>\n<path fill=\"none\" stroke=\"black\" d=\"M409.5,-222.91C409.5,-214.65 409.5,-205.86 409.5,-197.3\"/>\n<polygon fill=\"black\" stroke=\"black\" points=\"413,-197.02 409.5,-187.02 406,-197.02 413,-197.02\"/>\n</g>\n<!-- 3 -->\n<g id=\"node4\" class=\"node\">\n<title>3</title>\n<path fill=\"#c7a6f3\" stroke=\"black\" d=\"M117,-68C117,-68 12,-68 12,-68 6,-68 0,-62 0,-56 0,-56 0,-12 0,-12 0,-6 6,0 12,0 12,0 117,0 117,0 123,0 129,-6 129,-12 129,-12 129,-56 129,-56 129,-62 123,-68 117,-68\"/>\n<text text-anchor=\"start\" x=\"14.5\" y=\"-52.8\" font-family=\"Helvetica,sans-Serif\" font-size=\"14.00\">entropy = 0.939</text>\n<text text-anchor=\"start\" x=\"21\" y=\"-37.8\" font-family=\"Helvetica,sans-Serif\" font-size=\"14.00\">samples = 45</text>\n<text text-anchor=\"start\" x=\"8\" y=\"-22.8\" font-family=\"Helvetica,sans-Serif\" font-size=\"14.00\">value = [16, 0, 29]</text>\n<text text-anchor=\"start\" x=\"26.5\" y=\"-7.8\" font-family=\"Helvetica,sans-Serif\" font-size=\"14.00\">class = high</text>\n</g>\n<!-- 2&#45;&gt;3 -->\n<g id=\"edge3\" class=\"edge\">\n<title>2&#45;&gt;3</title>\n<path fill=\"none\" stroke=\"black\" d=\"M151.74,-103.73C139.7,-94.24 126.9,-84.16 114.92,-74.72\"/>\n<polygon fill=\"black\" stroke=\"black\" points=\"116.79,-71.74 106.77,-68.3 112.46,-77.24 116.79,-71.74\"/>\n</g>\n<!-- 4 -->\n<g id=\"node5\" class=\"node\">\n<title>4</title>\n<path fill=\"#8139e5\" stroke=\"black\" d=\"M248,-68C248,-68 159,-68 159,-68 153,-68 147,-62 147,-56 147,-56 147,-12 147,-12 147,-6 153,0 159,0 159,0 248,0 248,0 254,0 260,-6 260,-12 260,-12 260,-56 260,-56 260,-62 254,-68 248,-68\"/>\n<text text-anchor=\"start\" x=\"161.5\" y=\"-52.8\" font-family=\"Helvetica,sans-Serif\" font-size=\"14.00\">entropy = 0.0</text>\n<text text-anchor=\"start\" x=\"164\" y=\"-37.8\" font-family=\"Helvetica,sans-Serif\" font-size=\"14.00\">samples = 9</text>\n<text text-anchor=\"start\" x=\"155\" y=\"-22.8\" font-family=\"Helvetica,sans-Serif\" font-size=\"14.00\">value = [0, 0, 9]</text>\n<text text-anchor=\"start\" x=\"165.5\" y=\"-7.8\" font-family=\"Helvetica,sans-Serif\" font-size=\"14.00\">class = high</text>\n</g>\n<!-- 2&#45;&gt;4 -->\n<g id=\"edge4\" class=\"edge\">\n<title>2&#45;&gt;4</title>\n<path fill=\"none\" stroke=\"black\" d=\"M203.5,-103.73C203.5,-95.52 203.5,-86.86 203.5,-78.56\"/>\n<polygon fill=\"black\" stroke=\"black\" points=\"207,-78.3 203.5,-68.3 200,-78.3 207,-78.3\"/>\n</g>\n<!-- 6 -->\n<g id=\"node7\" class=\"node\">\n<title>6</title>\n<path fill=\"#d7fae6\" stroke=\"black\" d=\"M382.5,-68C382.5,-68 290.5,-68 290.5,-68 284.5,-68 278.5,-62 278.5,-56 278.5,-56 278.5,-12 278.5,-12 278.5,-6 284.5,0 290.5,0 290.5,0 382.5,0 382.5,0 388.5,0 394.5,-6 394.5,-12 394.5,-12 394.5,-56 394.5,-56 394.5,-62 388.5,-68 382.5,-68\"/>\n<text text-anchor=\"start\" x=\"286.5\" y=\"-52.8\" font-family=\"Helvetica,sans-Serif\" font-size=\"14.00\">entropy = 1.557</text>\n<text text-anchor=\"start\" x=\"297\" y=\"-37.8\" font-family=\"Helvetica,sans-Serif\" font-size=\"14.00\">samples = 7</text>\n<text text-anchor=\"start\" x=\"288\" y=\"-22.8\" font-family=\"Helvetica,sans-Serif\" font-size=\"14.00\">value = [2, 3, 2]</text>\n<text text-anchor=\"start\" x=\"286.5\" y=\"-7.8\" font-family=\"Helvetica,sans-Serif\" font-size=\"14.00\">class = medium</text>\n</g>\n<!-- 5&#45;&gt;6 -->\n<g id=\"edge6\" class=\"edge\">\n<title>5&#45;&gt;6</title>\n<path fill=\"none\" stroke=\"black\" d=\"M382.32,-103.73C376.42,-94.88 370.17,-85.51 364.25,-76.63\"/>\n<polygon fill=\"black\" stroke=\"black\" points=\"367.16,-74.68 358.7,-68.3 361.33,-78.56 367.16,-74.68\"/>\n</g>\n<!-- 7 -->\n<g id=\"node8\" class=\"node\">\n<title>7</title>\n<path fill=\"#ba93f1\" stroke=\"black\" d=\"M530,-68C530,-68 425,-68 425,-68 419,-68 413,-62 413,-56 413,-56 413,-12 413,-12 413,-6 419,0 425,0 425,0 530,0 530,0 536,0 542,-6 542,-12 542,-12 542,-56 542,-56 542,-62 536,-68 530,-68\"/>\n<text text-anchor=\"start\" x=\"427.5\" y=\"-52.8\" font-family=\"Helvetica,sans-Serif\" font-size=\"14.00\">entropy = 1.123</text>\n<text text-anchor=\"start\" x=\"434\" y=\"-37.8\" font-family=\"Helvetica,sans-Serif\" font-size=\"14.00\">samples = 76</text>\n<text text-anchor=\"start\" x=\"421\" y=\"-22.8\" font-family=\"Helvetica,sans-Serif\" font-size=\"14.00\">value = [21, 4, 51]</text>\n<text text-anchor=\"start\" x=\"439.5\" y=\"-7.8\" font-family=\"Helvetica,sans-Serif\" font-size=\"14.00\">class = high</text>\n</g>\n<!-- 5&#45;&gt;7 -->\n<g id=\"edge7\" class=\"edge\">\n<title>5&#45;&gt;7</title>\n<path fill=\"none\" stroke=\"black\" d=\"M434.82,-103.73C440.26,-94.97 446.01,-85.7 451.48,-76.91\"/>\n<polygon fill=\"black\" stroke=\"black\" points=\"454.52,-78.64 456.82,-68.3 448.57,-74.95 454.52,-78.64\"/>\n</g>\n<!-- 9 -->\n<g id=\"node10\" class=\"node\">\n<title>9</title>\n<path fill=\"#fcfafe\" stroke=\"black\" d=\"M773.5,-187C773.5,-187 643.5,-187 643.5,-187 637.5,-187 631.5,-181 631.5,-175 631.5,-175 631.5,-116 631.5,-116 631.5,-110 637.5,-104 643.5,-104 643.5,-104 773.5,-104 773.5,-104 779.5,-104 785.5,-110 785.5,-116 785.5,-116 785.5,-175 785.5,-175 785.5,-181 779.5,-187 773.5,-187\"/>\n<text text-anchor=\"start\" x=\"655.5\" y=\"-171.8\" font-family=\"Helvetica,sans-Serif\" font-size=\"14.00\">unit_price ≤ 36.5</text>\n<text text-anchor=\"start\" x=\"658.5\" y=\"-156.8\" font-family=\"Helvetica,sans-Serif\" font-size=\"14.00\">entropy = 1.342</text>\n<text text-anchor=\"start\" x=\"661\" y=\"-141.8\" font-family=\"Helvetica,sans-Serif\" font-size=\"14.00\">samples = 545</text>\n<text text-anchor=\"start\" x=\"639.5\" y=\"-126.8\" font-family=\"Helvetica,sans-Serif\" font-size=\"14.00\">value = [245, 48, 252]</text>\n<text text-anchor=\"start\" x=\"670.5\" y=\"-111.8\" font-family=\"Helvetica,sans-Serif\" font-size=\"14.00\">class = high</text>\n</g>\n<!-- 8&#45;&gt;9 -->\n<g id=\"edge9\" class=\"edge\">\n<title>8&#45;&gt;9</title>\n<path fill=\"none\" stroke=\"black\" d=\"M708.5,-222.91C708.5,-214.65 708.5,-205.86 708.5,-197.3\"/>\n<polygon fill=\"black\" stroke=\"black\" points=\"712,-197.02 708.5,-187.02 705,-197.02 712,-197.02\"/>\n</g>\n<!-- 12 -->\n<g id=\"node13\" class=\"node\">\n<title>12</title>\n<path fill=\"#c09cf2\" stroke=\"black\" d=\"M994,-187C994,-187 897,-187 897,-187 891,-187 885,-181 885,-175 885,-175 885,-116 885,-116 885,-110 891,-104 897,-104 897,-104 994,-104 994,-104 1000,-104 1006,-110 1006,-116 1006,-116 1006,-175 1006,-175 1006,-181 1000,-187 994,-187\"/>\n<text text-anchor=\"start\" x=\"905\" y=\"-171.8\" font-family=\"Helvetica,sans-Serif\" font-size=\"14.00\">gender ≤ 1.5</text>\n<text text-anchor=\"start\" x=\"895.5\" y=\"-156.8\" font-family=\"Helvetica,sans-Serif\" font-size=\"14.00\">entropy = 1.347</text>\n<text text-anchor=\"start\" x=\"902\" y=\"-141.8\" font-family=\"Helvetica,sans-Serif\" font-size=\"14.00\">samples = 18</text>\n<text text-anchor=\"start\" x=\"893\" y=\"-126.8\" font-family=\"Helvetica,sans-Serif\" font-size=\"14.00\">value = [3, 4, 11]</text>\n<text text-anchor=\"start\" x=\"907.5\" y=\"-111.8\" font-family=\"Helvetica,sans-Serif\" font-size=\"14.00\">class = high</text>\n</g>\n<!-- 8&#45;&gt;12 -->\n<g id=\"edge12\" class=\"edge\">\n<title>8&#45;&gt;12</title>\n<path fill=\"none\" stroke=\"black\" d=\"M785.77,-225.35C814.78,-211.03 847.56,-194.85 875.84,-180.89\"/>\n<polygon fill=\"black\" stroke=\"black\" points=\"877.43,-184.01 884.85,-176.44 874.33,-177.73 877.43,-184.01\"/>\n</g>\n<!-- 10 -->\n<g id=\"node11\" class=\"node\">\n<title>10</title>\n<path fill=\"#fef9f5\" stroke=\"black\" d=\"M685,-68C685,-68 572,-68 572,-68 566,-68 560,-62 560,-56 560,-56 560,-12 560,-12 560,-6 566,0 572,0 572,0 685,0 685,0 691,0 697,-6 697,-12 697,-12 697,-56 697,-56 697,-62 691,-68 685,-68\"/>\n<text text-anchor=\"start\" x=\"578.5\" y=\"-52.8\" font-family=\"Helvetica,sans-Serif\" font-size=\"14.00\">entropy = 1.463</text>\n<text text-anchor=\"start\" x=\"581\" y=\"-37.8\" font-family=\"Helvetica,sans-Serif\" font-size=\"14.00\">samples = 105</text>\n<text text-anchor=\"start\" x=\"568\" y=\"-22.8\" font-family=\"Helvetica,sans-Serif\" font-size=\"14.00\">value = [46, 16, 43]</text>\n<text text-anchor=\"start\" x=\"590.5\" y=\"-7.8\" font-family=\"Helvetica,sans-Serif\" font-size=\"14.00\">class = high</text>\n</g>\n<!-- 9&#45;&gt;10 -->\n<g id=\"edge10\" class=\"edge\">\n<title>9&#45;&gt;10</title>\n<path fill=\"none\" stroke=\"black\" d=\"M678.71,-103.73C672.25,-94.88 665.4,-85.51 658.91,-76.63\"/>\n<polygon fill=\"black\" stroke=\"black\" points=\"661.55,-74.31 652.83,-68.3 655.9,-78.44 661.55,-74.31\"/>\n</g>\n<!-- 11 -->\n<g id=\"node12\" class=\"node\">\n<title>11</title>\n<path fill=\"#faf7fe\" stroke=\"black\" d=\"M857.5,-68C857.5,-68 727.5,-68 727.5,-68 721.5,-68 715.5,-62 715.5,-56 715.5,-56 715.5,-12 715.5,-12 715.5,-6 721.5,0 727.5,0 727.5,0 857.5,0 857.5,0 863.5,0 869.5,-6 869.5,-12 869.5,-12 869.5,-56 869.5,-56 869.5,-62 863.5,-68 857.5,-68\"/>\n<text text-anchor=\"start\" x=\"742.5\" y=\"-52.8\" font-family=\"Helvetica,sans-Serif\" font-size=\"14.00\">entropy = 1.303</text>\n<text text-anchor=\"start\" x=\"745\" y=\"-37.8\" font-family=\"Helvetica,sans-Serif\" font-size=\"14.00\">samples = 440</text>\n<text text-anchor=\"start\" x=\"723.5\" y=\"-22.8\" font-family=\"Helvetica,sans-Serif\" font-size=\"14.00\">value = [199, 32, 209]</text>\n<text text-anchor=\"start\" x=\"754.5\" y=\"-7.8\" font-family=\"Helvetica,sans-Serif\" font-size=\"14.00\">class = high</text>\n</g>\n<!-- 9&#45;&gt;11 -->\n<g id=\"edge11\" class=\"edge\">\n<title>9&#45;&gt;11</title>\n<path fill=\"none\" stroke=\"black\" d=\"M739.78,-103.73C746.64,-94.79 753.9,-85.32 760.78,-76.36\"/>\n<polygon fill=\"black\" stroke=\"black\" points=\"763.65,-78.36 766.96,-68.3 758.09,-74.1 763.65,-78.36\"/>\n</g>\n<!-- 13 -->\n<g id=\"node14\" class=\"node\">\n<title>13</title>\n<path fill=\"#9d65eb\" stroke=\"black\" d=\"M991.5,-68C991.5,-68 899.5,-68 899.5,-68 893.5,-68 887.5,-62 887.5,-56 887.5,-56 887.5,-12 887.5,-12 887.5,-6 893.5,0 899.5,0 899.5,0 991.5,0 991.5,0 997.5,0 1003.5,-6 1003.5,-12 1003.5,-12 1003.5,-56 1003.5,-56 1003.5,-62 997.5,-68 991.5,-68\"/>\n<text text-anchor=\"start\" x=\"895.5\" y=\"-52.8\" font-family=\"Helvetica,sans-Serif\" font-size=\"14.00\">entropy = 0.684</text>\n<text text-anchor=\"start\" x=\"902\" y=\"-37.8\" font-family=\"Helvetica,sans-Serif\" font-size=\"14.00\">samples = 11</text>\n<text text-anchor=\"start\" x=\"897\" y=\"-22.8\" font-family=\"Helvetica,sans-Serif\" font-size=\"14.00\">value = [0, 2, 9]</text>\n<text text-anchor=\"start\" x=\"907.5\" y=\"-7.8\" font-family=\"Helvetica,sans-Serif\" font-size=\"14.00\">class = high</text>\n</g>\n<!-- 12&#45;&gt;13 -->\n<g id=\"edge13\" class=\"edge\">\n<title>12&#45;&gt;13</title>\n<path fill=\"none\" stroke=\"black\" d=\"M945.5,-103.73C945.5,-95.52 945.5,-86.86 945.5,-78.56\"/>\n<polygon fill=\"black\" stroke=\"black\" points=\"949,-78.3 945.5,-68.3 942,-78.3 949,-78.3\"/>\n</g>\n<!-- 14 -->\n<g id=\"node15\" class=\"node\">\n<title>14</title>\n<path fill=\"#fae6d7\" stroke=\"black\" d=\"M1125.5,-68C1125.5,-68 1033.5,-68 1033.5,-68 1027.5,-68 1021.5,-62 1021.5,-56 1021.5,-56 1021.5,-12 1021.5,-12 1021.5,-6 1027.5,0 1033.5,0 1033.5,0 1125.5,0 1125.5,0 1131.5,0 1137.5,-6 1137.5,-12 1137.5,-12 1137.5,-56 1137.5,-56 1137.5,-62 1131.5,-68 1125.5,-68\"/>\n<text text-anchor=\"start\" x=\"1029.5\" y=\"-52.8\" font-family=\"Helvetica,sans-Serif\" font-size=\"14.00\">entropy = 1.557</text>\n<text text-anchor=\"start\" x=\"1040\" y=\"-37.8\" font-family=\"Helvetica,sans-Serif\" font-size=\"14.00\">samples = 7</text>\n<text text-anchor=\"start\" x=\"1031\" y=\"-22.8\" font-family=\"Helvetica,sans-Serif\" font-size=\"14.00\">value = [3, 2, 2]</text>\n<text text-anchor=\"start\" x=\"1041.5\" y=\"-7.8\" font-family=\"Helvetica,sans-Serif\" font-size=\"14.00\">class = high</text>\n</g>\n<!-- 12&#45;&gt;14 -->\n<g id=\"edge14\" class=\"edge\">\n<title>12&#45;&gt;14</title>\n<path fill=\"none\" stroke=\"black\" d=\"M995.4,-103.73C1007,-94.24 1019.35,-84.16 1030.9,-74.72\"/>\n<polygon fill=\"black\" stroke=\"black\" points=\"1033.22,-77.34 1038.75,-68.3 1028.79,-71.92 1033.22,-77.34\"/>\n</g>\n</g>\n</svg>\n",
      "text/plain": [
       "<graphviz.sources.Source at 0x2248e7baa90>"
      ]
     },
     "execution_count": 84,
     "metadata": {},
     "output_type": "execute_result"
    }
   ],
   "source": [
    "dot_data = tree.export_graphviz(clf_entropy, out_file=None, feature_names=x_train.columns, class_names=y_train.reset_index(drop=True), filled=True, rounded=True, special_characters=True)\n",
    "\n",
    "graph = graphviz.Source(dot_data)\n",
    "\n",
    "graph\n"
   ]
  },
  {
   "cell_type": "markdown",
   "metadata": {},
   "source": [
    "ทำการคิด confusion matrix ออกมา\n",
    "\n",
    "แต่ละ column มีค่า True Positive, True Negative, False Positive, False Negative"
   ]
  },
  {
   "cell_type": "code",
   "execution_count": 85,
   "metadata": {},
   "outputs": [
    {
     "name": "stdout",
     "output_type": "stream",
     "text": [
      "Confusion matrix\n",
      "\n",
      " [[ 16   2 108]\n",
      " [  4   0  22]\n",
      " [ 26   3 119]]\n"
     ]
    }
   ],
   "source": [
    "cm = confusion_matrix(y_test, y_predicted_entropy)\n",
    "\n",
    "print('Confusion matrix\\n\\n', cm)\n"
   ]
  },
  {
   "cell_type": "markdown",
   "metadata": {},
   "source": [
    "ทำการ generate classification report"
   ]
  },
  {
   "cell_type": "code",
   "execution_count": 86,
   "metadata": {},
   "outputs": [
    {
     "name": "stdout",
     "output_type": "stream",
     "text": [
      "              precision    recall  f1-score   support\n",
      "\n",
      "        high       0.35      0.13      0.19       126\n",
      "         low       0.00      0.00      0.00        26\n",
      "      medium       0.48      0.80      0.60       148\n",
      "\n",
      "    accuracy                           0.45       300\n",
      "   macro avg       0.28      0.31      0.26       300\n",
      "weighted avg       0.38      0.45      0.37       300\n",
      "\n"
     ]
    }
   ],
   "source": [
    "print(classification_report(y_test, y_predicted_entropy))\n"
   ]
  }
 ],
 "metadata": {
  "interpreter": {
   "hash": "034342c9f06dc55b92611f9597cd3f83d92db63d108b43210a664387de7ff98b"
  },
  "kernelspec": {
   "display_name": "Python 3.9.7 ('venv': venv)",
   "language": "python",
   "name": "python3"
  },
  "language_info": {
   "codemirror_mode": {
    "name": "ipython",
    "version": 3
   },
   "file_extension": ".py",
   "mimetype": "text/x-python",
   "name": "python",
   "nbconvert_exporter": "python",
   "pygments_lexer": "ipython3",
   "version": "3.9.7"
  },
  "orig_nbformat": 4
 },
 "nbformat": 4,
 "nbformat_minor": 2
}
